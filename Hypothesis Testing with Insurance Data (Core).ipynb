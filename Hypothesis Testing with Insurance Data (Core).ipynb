{
 "cells": [
  {
   "cell_type": "code",
   "execution_count": 1,
   "id": "fae07e52",
   "metadata": {},
   "outputs": [],
   "source": [
    "import pandas as pd\n",
    "import numpy as np\n",
    "import matplotlib.pyplot as plt\n",
    "import seaborn as sns\n",
    "import scipy.stats as stats"
   ]
  },
  {
   "cell_type": "code",
   "execution_count": 2,
   "id": "684e066a",
   "metadata": {},
   "outputs": [
    {
     "data": {
      "text/html": [
       "<div>\n",
       "<style scoped>\n",
       "    .dataframe tbody tr th:only-of-type {\n",
       "        vertical-align: middle;\n",
       "    }\n",
       "\n",
       "    .dataframe tbody tr th {\n",
       "        vertical-align: top;\n",
       "    }\n",
       "\n",
       "    .dataframe thead th {\n",
       "        text-align: right;\n",
       "    }\n",
       "</style>\n",
       "<table border=\"1\" class=\"dataframe\">\n",
       "  <thead>\n",
       "    <tr style=\"text-align: right;\">\n",
       "      <th></th>\n",
       "      <th>age</th>\n",
       "      <th>sex</th>\n",
       "      <th>bmi</th>\n",
       "      <th>children</th>\n",
       "      <th>smoker</th>\n",
       "      <th>region</th>\n",
       "      <th>charges</th>\n",
       "    </tr>\n",
       "  </thead>\n",
       "  <tbody>\n",
       "    <tr>\n",
       "      <th>0</th>\n",
       "      <td>19</td>\n",
       "      <td>female</td>\n",
       "      <td>27.900</td>\n",
       "      <td>0</td>\n",
       "      <td>yes</td>\n",
       "      <td>southwest</td>\n",
       "      <td>16884.92400</td>\n",
       "    </tr>\n",
       "    <tr>\n",
       "      <th>1</th>\n",
       "      <td>18</td>\n",
       "      <td>male</td>\n",
       "      <td>33.770</td>\n",
       "      <td>1</td>\n",
       "      <td>no</td>\n",
       "      <td>southeast</td>\n",
       "      <td>1725.55230</td>\n",
       "    </tr>\n",
       "    <tr>\n",
       "      <th>2</th>\n",
       "      <td>28</td>\n",
       "      <td>male</td>\n",
       "      <td>33.000</td>\n",
       "      <td>3</td>\n",
       "      <td>no</td>\n",
       "      <td>southeast</td>\n",
       "      <td>4449.46200</td>\n",
       "    </tr>\n",
       "    <tr>\n",
       "      <th>3</th>\n",
       "      <td>33</td>\n",
       "      <td>male</td>\n",
       "      <td>22.705</td>\n",
       "      <td>0</td>\n",
       "      <td>no</td>\n",
       "      <td>northwest</td>\n",
       "      <td>21984.47061</td>\n",
       "    </tr>\n",
       "    <tr>\n",
       "      <th>4</th>\n",
       "      <td>32</td>\n",
       "      <td>male</td>\n",
       "      <td>28.880</td>\n",
       "      <td>0</td>\n",
       "      <td>no</td>\n",
       "      <td>northwest</td>\n",
       "      <td>3866.85520</td>\n",
       "    </tr>\n",
       "  </tbody>\n",
       "</table>\n",
       "</div>"
      ],
      "text/plain": [
       "   age     sex     bmi  children smoker     region      charges\n",
       "0   19  female  27.900         0    yes  southwest  16884.92400\n",
       "1   18    male  33.770         1     no  southeast   1725.55230\n",
       "2   28    male  33.000         3     no  southeast   4449.46200\n",
       "3   33    male  22.705         0     no  northwest  21984.47061\n",
       "4   32    male  28.880         0     no  northwest   3866.85520"
      ]
     },
     "execution_count": 2,
     "metadata": {},
     "output_type": "execute_result"
    }
   ],
   "source": [
    "df = pd.read_csv('Data/insurance - insurance.csv')\n",
    "df.head()"
   ]
  },
  {
   "cell_type": "code",
   "execution_count": 3,
   "id": "e874101f",
   "metadata": {},
   "outputs": [
    {
     "name": "stdout",
     "output_type": "stream",
     "text": [
      "<class 'pandas.core.frame.DataFrame'>\n",
      "RangeIndex: 1338 entries, 0 to 1337\n",
      "Data columns (total 7 columns):\n",
      " #   Column    Non-Null Count  Dtype  \n",
      "---  ------    --------------  -----  \n",
      " 0   age       1338 non-null   int64  \n",
      " 1   sex       1338 non-null   object \n",
      " 2   bmi       1338 non-null   float64\n",
      " 3   children  1338 non-null   int64  \n",
      " 4   smoker    1338 non-null   object \n",
      " 5   region    1338 non-null   object \n",
      " 6   charges   1338 non-null   float64\n",
      "dtypes: float64(2), int64(2), object(3)\n",
      "memory usage: 73.3+ KB\n"
     ]
    }
   ],
   "source": [
    "df.info()"
   ]
  },
  {
   "cell_type": "markdown",
   "id": "fa8a6f4e",
   "metadata": {},
   "source": [
    "<b>Q1. Do smokers have higher insurance charges than non-smokers?\n",
    "\n",
    "Null Hypothesis: Smokers have the same insurance charges as non-smokers.\n",
    "\n",
    "Alternative Hypothesis: Smokers have higher insurance charges than non-smokers.\n",
    "\n",
    "The T-test test should be performed as we are evaluating numeric data (charges) across 2 samples. (smokers/non-smokers)\n",
    "\n",
    "The standard significance level of alpha = 0.05 will be used.\n",
    "    "
   ]
  },
  {
   "cell_type": "code",
   "execution_count": 4,
   "id": "cad257c9",
   "metadata": {},
   "outputs": [
    {
     "data": {
      "text/plain": [
       "no     1064\n",
       "yes     274\n",
       "Name: smoker, dtype: int64"
      ]
     },
     "execution_count": 4,
     "metadata": {},
     "output_type": "execute_result"
    }
   ],
   "source": [
    "df['smoker'].value_counts()"
   ]
  },
  {
   "cell_type": "code",
   "execution_count": 5,
   "id": "9933e51b",
   "metadata": {},
   "outputs": [],
   "source": [
    "# Filtering by smoking status\n",
    "smoke_df = df.loc[df['smoker']== 'yes'].copy()\n",
    "no_smoke_df = df.loc[df['smoker']== 'no'].copy()"
   ]
  },
  {
   "cell_type": "code",
   "execution_count": 6,
   "id": "b39b3a1e",
   "metadata": {},
   "outputs": [],
   "source": [
    "smoke_weight = smoke_df['charges']\n",
    "no_smoke_weight = no_smoke_df['charges']"
   ]
  },
  {
   "cell_type": "code",
   "execution_count": 7,
   "id": "a074d6e2",
   "metadata": {},
   "outputs": [
    {
     "name": "stdout",
     "output_type": "stream",
     "text": [
      "0\n"
     ]
    }
   ],
   "source": [
    "# Check for outliers in smokers group\n",
    "zscores= stats.zscore(smoke_weight)\n",
    "outliers = abs(zscores)>3\n",
    "print(np.sum(outliers))"
   ]
  },
  {
   "cell_type": "code",
   "execution_count": 8,
   "id": "0f5f62a5",
   "metadata": {},
   "outputs": [
    {
     "name": "stdout",
     "output_type": "stream",
     "text": [
      "24\n"
     ]
    }
   ],
   "source": [
    "# Check for outliers in non smoker group\n",
    "zscores = stats.zscore(no_smoke_weight)\n",
    "outliers = abs(zscores)>3\n",
    "print(np.sum(outliers))"
   ]
  },
  {
   "cell_type": "code",
   "execution_count": 9,
   "id": "a3fd5682",
   "metadata": {},
   "outputs": [],
   "source": [
    "# remove outliers\n",
    "no_smoke_weight = no_smoke_weight[(np.abs(stats.zscore(no_smoke_weight)) < 3)]"
   ]
  },
  {
   "cell_type": "code",
   "execution_count": 10,
   "id": "0da9584b",
   "metadata": {},
   "outputs": [
    {
     "name": "stdout",
     "output_type": "stream",
     "text": [
      "NormaltestResult(statistic=61.03941356533816, pvalue=5.564930630036463e-14)\n",
      "NormaltestResult(statistic=163.80367047789198, pvalue=2.6945416315543976e-36)\n"
     ]
    }
   ],
   "source": [
    "# test the smoker group for normality\n",
    "result_smoke_weight = stats.normaltest(smoke_weight)\n",
    "print(result_smoke_weight)\n",
    "\n",
    "result_no_smoke_weight = stats.normaltest(no_smoke_weight)\n",
    "print(result_no_smoke_weight)"
   ]
  },
  {
   "cell_type": "markdown",
   "id": "7a4e4404",
   "metadata": {},
   "source": [
    "Neither group is normally distributed, but both groups meet the minimum size of 15 needed to continue with the test."
   ]
  },
  {
   "cell_type": "code",
   "execution_count": 11,
   "id": "a0a4a07e",
   "metadata": {},
   "outputs": [
    {
     "data": {
      "text/plain": [
       "LeveneResult(statistic=520.7468821724297, pvalue=2.4247238784347824e-97)"
      ]
     },
     "execution_count": 11,
     "metadata": {},
     "output_type": "execute_result"
    }
   ],
   "source": [
    "# Test for equal variance\n",
    "result = stats.levene(smoke_weight, no_smoke_weight)\n",
    "result"
   ]
  },
  {
   "cell_type": "markdown",
   "id": "c80bd6cd",
   "metadata": {},
   "source": [
    "Because the p-value is less than alpha of 0.05, we reject the null hypothesis of equal variance.\n",
    "\n",
    "However, but we can continue. We just need to be sure to include \"equal_var = False\" when we perform our t-test."
   ]
  },
  {
   "cell_type": "code",
   "execution_count": 12,
   "id": "72f6a575",
   "metadata": {},
   "outputs": [
    {
     "data": {
      "text/plain": [
       "Ttest_indResult(statistic=33.732305987092516, pvalue=2.575322662587431e-104)"
      ]
     },
     "execution_count": 12,
     "metadata": {},
     "output_type": "execute_result"
    }
   ],
   "source": [
    "# Independent t-test with equal_var set to False\n",
    "result = stats.ttest_ind(smoke_weight, no_smoke_weight, equal_var = False)\n",
    "result"
   ]
  },
  {
   "cell_type": "markdown",
   "id": "6aadc3cd",
   "metadata": {},
   "source": [
    "Because our p-value is less than 0.05, we reject the null hypothesis and conclude that there is a significant difference in insurance charges between smokers and non-smokers."
   ]
  },
  {
   "cell_type": "code",
   "execution_count": 13,
   "id": "454740fd",
   "metadata": {},
   "outputs": [
    {
     "data": {
      "image/png": "[encoded data removed]",
      "text/plain": [
       "<Figure size 800x600 with 1 Axes>"
      ]
     },
     "metadata": {},
     "output_type": "display_data"
    }
   ],
   "source": [
    "# Converting to wide dataframe\n",
    "data_wide = df.pivot(columns = 'smoker',\n",
    "                     values = 'charges')\n",
    "  \n",
    "# plotting multiple density plot\n",
    "data_wide.plot.kde(figsize = (8, 6),\n",
    "                   linewidth = 4);"
   ]
  },
  {
   "cell_type": "markdown",
   "id": "7de56d41",
   "metadata": {},
   "source": [
    "<b>Q2. Are men more likely to smoke than women?\n",
    "\n",
    "Null Hypothesis: Men and women smoke at the same rate.\n",
    "\n",
    "Alternative Hypothesis: Men are more likely to smoke than women.\n",
    "\n",
    "The Chi-Squared test should be performed as we are evaluating categorical data (smoker/non-smoker) with 2 samples. (male/female)\n",
    "\n",
    "The standard significance level of alpha = 0.05 will be used."
   ]
  },
  {
   "cell_type": "code",
   "execution_count": 14,
   "id": "d3b39271",
   "metadata": {},
   "outputs": [
    {
     "data": {
      "text/html": [
       "<div>\n",
       "<style scoped>\n",
       "    .dataframe tbody tr th:only-of-type {\n",
       "        vertical-align: middle;\n",
       "    }\n",
       "\n",
       "    .dataframe tbody tr th {\n",
       "        vertical-align: top;\n",
       "    }\n",
       "\n",
       "    .dataframe thead th {\n",
       "        text-align: right;\n",
       "    }\n",
       "</style>\n",
       "<table border=\"1\" class=\"dataframe\">\n",
       "  <thead>\n",
       "    <tr style=\"text-align: right;\">\n",
       "      <th>smoker</th>\n",
       "      <th>no</th>\n",
       "      <th>yes</th>\n",
       "    </tr>\n",
       "    <tr>\n",
       "      <th>sex</th>\n",
       "      <th></th>\n",
       "      <th></th>\n",
       "    </tr>\n",
       "  </thead>\n",
       "  <tbody>\n",
       "    <tr>\n",
       "      <th>female</th>\n",
       "      <td>547</td>\n",
       "      <td>115</td>\n",
       "    </tr>\n",
       "    <tr>\n",
       "      <th>male</th>\n",
       "      <td>517</td>\n",
       "      <td>159</td>\n",
       "    </tr>\n",
       "  </tbody>\n",
       "</table>\n",
       "</div>"
      ],
      "text/plain": [
       "smoker   no  yes\n",
       "sex             \n",
       "female  547  115\n",
       "male    517  159"
      ]
     },
     "execution_count": 14,
     "metadata": {},
     "output_type": "execute_result"
    }
   ],
   "source": [
    "# calculate the contingency table with pd.cross-tab\n",
    "table = pd.crosstab(df['sex'], df['smoker'])\n",
    "table"
   ]
  },
  {
   "cell_type": "markdown",
   "id": "439e8fe7",
   "metadata": {},
   "source": [
    "At a glance, there are a higher percentage of smokers in the male population. But we will perform a statistical test to confirm significance.\n",
    "\n",
    "There are two variables measured at a nominal level (smoker/non-smoker and male/female) and the two groups (male/female) are independent so we can proceed with the test."
   ]
  },
  {
   "cell_type": "code",
   "execution_count": 15,
   "id": "e4a82f94",
   "metadata": {},
   "outputs": [],
   "source": [
    "# Run the Test and Save the Output\n",
    "result = stats.chi2_contingency(table)\n",
    "chi2, p, deg_free, expected_vals = result #this labels the results"
   ]
  },
  {
   "cell_type": "code",
   "execution_count": 16,
   "id": "2352d892",
   "metadata": {},
   "outputs": [
    {
     "name": "stdout",
     "output_type": "stream",
     "text": [
      "0.006548143503580696\n"
     ]
    },
    {
     "data": {
      "text/plain": [
       "True"
      ]
     },
     "execution_count": 16,
     "metadata": {},
     "output_type": "execute_result"
    }
   ],
   "source": [
    "# What was our p-value?\n",
    "print(p)\n",
    "p<.05"
   ]
  },
  {
   "cell_type": "markdown",
   "id": "b0e0f1c0",
   "metadata": {},
   "source": [
    "Because our p-value is less than 0.05, we reject the null hypothesis and conclude that men are more likely to smoke than women."
   ]
  },
  {
   "cell_type": "code",
   "execution_count": 17,
   "id": "64b8a9a5",
   "metadata": {},
   "outputs": [
    {
     "data": {
      "image/png": "[encoded data removed]",
      "text/plain": [
       "<Figure size 640x480 with 1 Axes>"
      ]
     },
     "metadata": {},
     "output_type": "display_data"
    }
   ],
   "source": [
    "barplot = table.plot.bar(rot=0)"
   ]
  },
  {
   "cell_type": "markdown",
   "id": "e38c9622",
   "metadata": {},
   "source": [
    "<b> Q3. Do different regions have different charges, on average?\n",
    "\n",
    "Null Hypothesis: Regions have the same charges on average.\n",
    "\n",
    "Alternative Hypothesis: The regions DO have different charges, on average.\n",
    "\n",
    "The standard significance level of alpha = 0.05 will be used.\n"
   ]
  },
  {
   "cell_type": "code",
   "execution_count": 18,
   "id": "0e005990",
   "metadata": {},
   "outputs": [
    {
     "data": {
      "text/plain": [
       "southeast    364\n",
       "southwest    325\n",
       "northwest    325\n",
       "northeast    324\n",
       "Name: region, dtype: int64"
      ]
     },
     "execution_count": 18,
     "metadata": {},
     "output_type": "execute_result"
    }
   ],
   "source": [
    "df['region'].value_counts()"
   ]
  },
  {
   "cell_type": "markdown",
   "id": "3512a203",
   "metadata": {},
   "source": [
    "The ANOVA test should be performed as we are evaluating numerical data (charges) across 4 groups. (region)"
   ]
  },
  {
   "cell_type": "code",
   "execution_count": 19,
   "id": "ff611462",
   "metadata": {},
   "outputs": [],
   "source": [
    "# Filtering by region status\n",
    "southeast_df = df.loc[df['region']== 'southeast'].copy()\n",
    "southwest_df = df.loc[df['region']== 'southwest'].copy()\n",
    "northeast_df = df.loc[df['region']== 'northeast'].copy()\n",
    "northwest_df = df.loc[df['region']== 'northwest'].copy()"
   ]
  },
  {
   "cell_type": "code",
   "execution_count": 20,
   "id": "787ce2f6",
   "metadata": {},
   "outputs": [],
   "source": [
    "southeast_weight = southeast_df['charges']\n",
    "southwest_weight = southwest_df['charges']\n",
    "northeast_weight = northeast_df['charges']\n",
    "northwest_weight = northwest_df['charges']"
   ]
  },
  {
   "cell_type": "code",
   "execution_count": 21,
   "id": "9bc7dde9",
   "metadata": {},
   "outputs": [
    {
     "name": "stdout",
     "output_type": "stream",
     "text": [
      "2\n"
     ]
    }
   ],
   "source": [
    "# Check for outliers by region\n",
    "zscores= stats.zscore(southeast_weight)\n",
    "outliers = abs(zscores)>3\n",
    "print(np.sum(outliers))"
   ]
  },
  {
   "cell_type": "code",
   "execution_count": 22,
   "id": "bc27b6af",
   "metadata": {},
   "outputs": [],
   "source": [
    "# remove outliers\n",
    "southeast_weight = southeast_weight[(np.abs(stats.zscore(southeast_weight)) < 3)]"
   ]
  },
  {
   "cell_type": "code",
   "execution_count": 23,
   "id": "b76cf2e3",
   "metadata": {},
   "outputs": [
    {
     "name": "stdout",
     "output_type": "stream",
     "text": [
      "8\n"
     ]
    }
   ],
   "source": [
    "zscores= stats.zscore(southwest_weight)\n",
    "outliers = abs(zscores)>3\n",
    "print(np.sum(outliers))"
   ]
  },
  {
   "cell_type": "code",
   "execution_count": 24,
   "id": "87762ce6",
   "metadata": {},
   "outputs": [],
   "source": [
    "# remove outliers\n",
    "southwest_weight = southwest_weight[(np.abs(stats.zscore(southwest_weight)) < 3)]"
   ]
  },
  {
   "cell_type": "code",
   "execution_count": 25,
   "id": "308df128",
   "metadata": {},
   "outputs": [
    {
     "name": "stdout",
     "output_type": "stream",
     "text": [
      "4\n"
     ]
    }
   ],
   "source": [
    "zscores= stats.zscore(northeast_weight)\n",
    "outliers = abs(zscores)>3\n",
    "print(np.sum(outliers))"
   ]
  },
  {
   "cell_type": "code",
   "execution_count": 26,
   "id": "49b1c924",
   "metadata": {},
   "outputs": [],
   "source": [
    "# remove outliers\n",
    "northeast_weight = northeast_weight[(np.abs(stats.zscore(northeast_weight)) < 3)]"
   ]
  },
  {
   "cell_type": "code",
   "execution_count": 27,
   "id": "61b778b0",
   "metadata": {},
   "outputs": [
    {
     "name": "stdout",
     "output_type": "stream",
     "text": [
      "7\n"
     ]
    }
   ],
   "source": [
    "zscores= stats.zscore(northwest_weight)\n",
    "outliers = abs(zscores)>3\n",
    "print(np.sum(outliers))"
   ]
  },
  {
   "cell_type": "code",
   "execution_count": 28,
   "id": "7879bedd",
   "metadata": {},
   "outputs": [],
   "source": [
    "# remove outliers\n",
    "northwest_weight = northwest_weight[(np.abs(stats.zscore(northwest_weight)) < 3)]"
   ]
  },
  {
   "cell_type": "code",
   "execution_count": 29,
   "id": "5e02aa35",
   "metadata": {},
   "outputs": [
    {
     "data": {
      "text/plain": [
       "dict_keys(['southwest', 'southeast', 'northwest', 'northeast'])"
      ]
     },
     "execution_count": 29,
     "metadata": {},
     "output_type": "execute_result"
    }
   ],
   "source": [
    "## Create groups dictionary. There are only 3 groups, but this is even more helpful when there are many groups\n",
    "groups = {}\n",
    "## Loop through all unique categories\n",
    "for i in df['region'].unique():\n",
    "    ## Get series for group and rename\n",
    "    data = df.loc[df['region']==i,'charges'].copy()\n",
    "    \n",
    "    # save into the dictionary\n",
    "    groups[i] = data\n",
    "groups.keys()"
   ]
  },
  {
   "cell_type": "code",
   "execution_count": 30,
   "id": "e220f750",
   "metadata": {},
   "outputs": [
    {
     "data": {
      "text/html": [
       "<div>\n",
       "<style scoped>\n",
       "    .dataframe tbody tr th:only-of-type {\n",
       "        vertical-align: middle;\n",
       "    }\n",
       "\n",
       "    .dataframe tbody tr th {\n",
       "        vertical-align: top;\n",
       "    }\n",
       "\n",
       "    .dataframe thead th {\n",
       "        text-align: right;\n",
       "    }\n",
       "</style>\n",
       "<table border=\"1\" class=\"dataframe\">\n",
       "  <thead>\n",
       "    <tr style=\"text-align: right;\">\n",
       "      <th></th>\n",
       "      <th>n</th>\n",
       "      <th>p</th>\n",
       "      <th>test stat</th>\n",
       "    </tr>\n",
       "  </thead>\n",
       "  <tbody>\n",
       "    <tr>\n",
       "      <th>southwest</th>\n",
       "      <td>325.0</td>\n",
       "      <td>6.125298e-23</td>\n",
       "      <td>102.294059</td>\n",
       "    </tr>\n",
       "    <tr>\n",
       "      <th>southeast</th>\n",
       "      <td>364.0</td>\n",
       "      <td>4.953297e-15</td>\n",
       "      <td>65.877446</td>\n",
       "    </tr>\n",
       "    <tr>\n",
       "      <th>northwest</th>\n",
       "      <td>325.0</td>\n",
       "      <td>5.184209e-24</td>\n",
       "      <td>107.232850</td>\n",
       "    </tr>\n",
       "    <tr>\n",
       "      <th>northeast</th>\n",
       "      <td>324.0</td>\n",
       "      <td>1.455431e-19</td>\n",
       "      <td>86.747629</td>\n",
       "    </tr>\n",
       "  </tbody>\n",
       "</table>\n",
       "</div>"
      ],
      "text/plain": [
       "               n             p   test stat\n",
       "southwest  325.0  6.125298e-23  102.294059\n",
       "southeast  364.0  4.953297e-15   65.877446\n",
       "northwest  325.0  5.184209e-24  107.232850\n",
       "northeast  324.0  1.455431e-19   86.747629"
      ]
     },
     "execution_count": 30,
     "metadata": {},
     "output_type": "execute_result"
    }
   ],
   "source": [
    "## Running normal test on each group and confirming there are >20 in each group\n",
    "norm_results = {}\n",
    "for i, data in groups.items():\n",
    "    stat, p = stats.normaltest(data)\n",
    "    ## save the p val, test statistic, and the size of the group\n",
    "    norm_results[i] = {'n': len(data),\n",
    "                             'p':p,\n",
    "                             'test stat':stat,}\n",
    "## convert to a dataframe\n",
    "norm_results_df = pd.DataFrame(norm_results).T\n",
    "norm_results_df"
   ]
  },
  {
   "cell_type": "markdown",
   "id": "2ea9d8b7",
   "metadata": {},
   "source": [
    "No group is normally distributed, but all four groups meet the minimum size of 15 needed to continue with the test."
   ]
  },
  {
   "cell_type": "code",
   "execution_count": 31,
   "id": "b3b54465",
   "metadata": {},
   "outputs": [
    {
     "data": {
      "text/plain": [
       "LeveneResult(statistic=5.559966758410606, pvalue=0.0008610590250786703)"
      ]
     },
     "execution_count": 31,
     "metadata": {},
     "output_type": "execute_result"
    }
   ],
   "source": [
    "## Testing assumption of equal variance\n",
    "stats.levene(*groups.values())"
   ]
  },
  {
   "cell_type": "markdown",
   "id": "6024afcd",
   "metadata": {},
   "source": [
    "Because the p-value is less than alpha of 0.05, we reject the null hypothesis of equal variance.\n",
    "\n",
    "Therefore, at this point we must use the non parametric test version of the One-Way ANOVA test which is the Kruskal-Wallis test."
   ]
  },
  {
   "cell_type": "code",
   "execution_count": 32,
   "id": "c5272c71",
   "metadata": {},
   "outputs": [
    {
     "data": {
      "text/plain": [
       "KruskalResult(statistic=4.734181215658743, pvalue=0.19232908072121002)"
      ]
     },
     "execution_count": 32,
     "metadata": {},
     "output_type": "execute_result"
    }
   ],
   "source": [
    "result = stats.kruskal( *groups.values())\n",
    "result"
   ]
  },
  {
   "cell_type": "markdown",
   "id": "95e56ed9",
   "metadata": {},
   "source": [
    "Because the p-value is greater than alpha of 0.05, we fail to reject the null hypothesis and conclude that average charges do no vary by region."
   ]
  },
  {
   "cell_type": "code",
   "execution_count": 33,
   "id": "b07ec225",
   "metadata": {},
   "outputs": [
    {
     "data": {
      "image/png": "[encoded data removed]",
      "text/plain": [
       "<Figure size 800x600 with 1 Axes>"
      ]
     },
     "metadata": {},
     "output_type": "display_data"
    }
   ],
   "source": [
    "# Converting to wide dataframe\n",
    "data_wide = df.pivot(columns = 'region',\n",
    "                     values = 'charges')\n",
    "  \n",
    "# plotting multiple density plot\n",
    "data_wide.plot.kde(figsize = (8, 6),\n",
    "                   linewidth = 4);"
   ]
  }
 ],
 "metadata": {
  "kernelspec": {
   "display_name": "Python (dojo-env)",
   "language": "python",
   "name": "dojo-env"
  },
  "language_info": {
   "codemirror_mode": {
    "name": "ipython",
    "version": 3
   },
   "file_extension": ".py",
   "mimetype": "text/x-python",
   "name": "python",
   "nbconvert_exporter": "python",
   "pygments_lexer": "ipython3",
   "version": "3.8.13"
  },
  "toc": {
   "base_numbering": 1,
   "nav_menu": {},
   "number_sections": false,
   "sideBar": true,
   "skip_h1_title": false,
   "title_cell": "Table of Contents",
   "title_sidebar": "Contents",
   "toc_cell": false,
   "toc_position": {},
   "toc_section_display": true,
   "toc_window_display": false
  }
 },
 "nbformat": 4,
 "nbformat_minor": 5
}
